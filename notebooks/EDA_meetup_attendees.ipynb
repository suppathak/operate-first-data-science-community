{
 "cells": [
  {
   "cell_type": "markdown",
   "id": "b7c918a9-9007-4faa-b078-dd3ea7c642b1",
   "metadata": {},
   "source": [
    "# Exploratory data analysis for meetup attendees data\n",
    "\n",
    "The notebook serves the purpose of gathering insights from Operate first data science meetup attendees data by doing an exploratory data analysis."
   ]
  },
  {
   "cell_type": "code",
   "execution_count": 1,
   "id": "rural-arcade",
   "metadata": {
    "ExecuteTime": {
     "end_time": "2022-03-15T15:02:09.641993Z",
     "start_time": "2022-03-15T15:02:08.234121Z"
    }
   },
   "outputs": [
    {
     "data": {
      "text/plain": [
       "True"
      ]
     },
     "execution_count": 1,
     "metadata": {},
     "output_type": "execute_result"
    }
   ],
   "source": [
    "import os\n",
    "import pandas as pd\n",
    "import boto3\n",
    "import warnings\n",
    "\n",
    "import matplotlib.pyplot as plt\n",
    "%matplotlib inline\n",
    "from dotenv import find_dotenv, load_dotenv\n",
    "load_dotenv(find_dotenv())"
   ]
  },
  {
   "cell_type": "code",
   "execution_count": 2,
   "id": "ad4b3329-120f-4a0f-a356-63370b611a89",
   "metadata": {},
   "outputs": [],
   "source": [
    "pd.set_option('display.max_rows', 500)\n",
    "pd.set_option('display.max_columns', 500)\n",
    "warnings.filterwarnings(\"ignore\")"
   ]
  },
  {
   "cell_type": "markdown",
   "id": "f5badc78-4b2e-4113-9c83-8efff6779117",
   "metadata": {},
   "source": [
    "## Accessing the environment keys:"
   ]
  },
  {
   "cell_type": "code",
   "execution_count": 3,
   "id": "2a758bea-c717-42ae-be0e-fbb2eedffd9c",
   "metadata": {},
   "outputs": [],
   "source": [
    "s3_endpoint_url = os.getenv(\"S3_ENDPOINT\")\n",
    "s3_access_key = os.getenv(\"S3_ACCESS_KEY\")\n",
    "s3_secret_key = os.getenv(\"S3_SECRET_KEY\")\n",
    "s3_bucket = os.getenv(\"S3_BUCKET\")"
   ]
  },
  {
   "cell_type": "markdown",
   "id": "12199733-2fb1-42a5-a5ad-6e5be3b5dd1e",
   "metadata": {},
   "source": [
    "We will be using boto3 client and resource, s3_client and s3_resource, in order to explore the contents of the bucket."
   ]
  },
  {
   "cell_type": "code",
   "execution_count": 4,
   "id": "f14296d1-0e5c-4054-93d8-1d6587dad658",
   "metadata": {},
   "outputs": [],
   "source": [
    "s3_client = boto3.client('s3', endpoint_url= s3_endpoint_url,\n",
    "                       aws_access_key_id = s3_access_key,\n",
    "                       aws_secret_access_key = s3_secret_key)\n",
    "s3_resource = boto3.resource('s3', endpoint_url= s3_endpoint_url,\n",
    "                       aws_access_key_id = s3_access_key,\n",
    "                       aws_secret_access_key = s3_secret_key)"
   ]
  },
  {
   "cell_type": "markdown",
   "id": "9e54bb51-556b-4749-838e-f4ffe9a08d8c",
   "metadata": {},
   "source": [
    "The meetup attendees data are stored in `opf-datacatlog` bucket in this folder: `open-services-group/operate-first-data-science-community/meetup_attendees`. In order to extract them, we can follow the steps as shown below:"
   ]
  },
  {
   "cell_type": "code",
   "execution_count": 5,
   "id": "1eb3d680-9a7b-43cf-bc50-fcef1622d03b",
   "metadata": {},
   "outputs": [
    {
     "name": "stdout",
     "output_type": "stream",
     "text": [
      "open-services-group/operate-first-data-science-community/meetup_attendees/obfuscated_2021-12-14_10_58_EYBYEGJGJI_Attendance_Report-Attendees.csv\n",
      "open-services-group/operate-first-data-science-community/meetup_attendees/obfuscated_2022-01-25_10_52_EYBYEGJGJI_Attendance_Report-Attendees.csv\n",
      "open-services-group/operate-first-data-science-community/meetup_attendees/obfuscated_2022-02-08_10_50_EYBYEGJGJI_Attendance_Report-Attendees.csv\n",
      "open-services-group/operate-first-data-science-community/meetup_attendees/obfuscated_2022-02-22_10_49_EYBYEGJGJI_Attendance_Report-Attendees.csv\n",
      "open-services-group/operate-first-data-science-community/meetup_attendees/obfuscated_2022-03-08_10_58_EYBYEGJGJI_Attendance_Report-Attendees.csv\n",
      "open-services-group/operate-first-data-science-community/meetup_attendees/obfuscated_2022-03-22_10_51_EYBYEGJGJI_Attendance_Report-Attendees.csv\n",
      "open-services-group/operate-first-data-science-community/meetup_attendees/obfuscated_2022-04-05_10_39_EYBYEGJGJI_Attendance_Report-Attendees.csv\n"
     ]
    }
   ],
   "source": [
    "my_bucket = s3_resource.Bucket(s3_bucket)\n",
    "\n",
    "for object_file in my_bucket.objects.filter(Prefix=\"open-services-group/operate-first-data-science-community/meetup_attendees/\"):\n",
    "    print(object_file.key)"
   ]
  },
  {
   "cell_type": "markdown",
   "id": "33270042-083b-4514-891d-7da21cef713c",
   "metadata": {},
   "source": [
    "Next, we will extract these dataframe and merge them by row so that it is easier to do EDA on it."
   ]
  },
  {
   "cell_type": "code",
   "execution_count": 6,
   "id": "aa6a287e-0fd4-41d4-ba53-8b0b2032de48",
   "metadata": {},
   "outputs": [],
   "source": [
    "merged_df = pd.DataFrame([])\n",
    "for object_file in my_bucket.objects.filter(Prefix=\"open-services-group/operate-first-data-science-community/meetup_attendees/\"):\n",
    "    obj = s3_client.get_object(Bucket=s3_bucket, Key = object_file.key)\n",
    "    df = pd.read_csv(obj['Body'])\n",
    "    df.drop(['Unnamed: 0'], 1, inplace=True)\n",
    "    merged_df = merged_df.append(df, ignore_index=True)    "
   ]
  },
  {
   "cell_type": "code",
   "execution_count": 7,
   "id": "bcab93f0-98ea-4445-a992-519acbdc2b56",
   "metadata": {},
   "outputs": [
    {
     "data": {
      "text/plain": [
       "(180, 6)"
      ]
     },
     "execution_count": 7,
     "metadata": {},
     "output_type": "execute_result"
    }
   ],
   "source": [
    "merged_df.shape"
   ]
  },
  {
   "cell_type": "code",
   "execution_count": 8,
   "id": "10bd2796-11e1-4e55-be6e-809c01533835",
   "metadata": {},
   "outputs": [
    {
     "data": {
      "text/html": [
       "<div>\n",
       "<style scoped>\n",
       "    .dataframe tbody tr th:only-of-type {\n",
       "        vertical-align: middle;\n",
       "    }\n",
       "\n",
       "    .dataframe tbody tr th {\n",
       "        vertical-align: top;\n",
       "    }\n",
       "\n",
       "    .dataframe thead th {\n",
       "        text-align: right;\n",
       "    }\n",
       "</style>\n",
       "<table border=\"1\" class=\"dataframe\">\n",
       "  <thead>\n",
       "    <tr style=\"text-align: right;\">\n",
       "      <th></th>\n",
       "      <th>Date</th>\n",
       "      <th>Name#</th>\n",
       "      <th>Email</th>\n",
       "      <th>Duration</th>\n",
       "      <th>Time_joined</th>\n",
       "      <th>Time_exited</th>\n",
       "    </tr>\n",
       "  </thead>\n",
       "  <tbody>\n",
       "    <tr>\n",
       "      <th>0</th>\n",
       "      <td>2021-12-14</td>\n",
       "      <td>513fa0b6615335d0bed0a1dcdb40e1e515c07619608650...</td>\n",
       "      <td>redhat.com</td>\n",
       "      <td>30 min</td>\n",
       "      <td>11:02 AM</td>\n",
       "      <td>11:32 AM</td>\n",
       "    </tr>\n",
       "    <tr>\n",
       "      <th>1</th>\n",
       "      <td>2021-12-14</td>\n",
       "      <td>c0600eaa67ce4b171cb130cfa4914cc54d163384012e93...</td>\n",
       "      <td>redhat.com</td>\n",
       "      <td>30 min</td>\n",
       "      <td>11:02 AM</td>\n",
       "      <td>11:32 AM</td>\n",
       "    </tr>\n",
       "    <tr>\n",
       "      <th>2</th>\n",
       "      <td>2021-12-14</td>\n",
       "      <td>864042274f41a29a5b7fb860c7ec9fb3c1e6ec0e994731...</td>\n",
       "      <td>redhat.com</td>\n",
       "      <td>30 min</td>\n",
       "      <td>11:02 AM</td>\n",
       "      <td>11:32 AM</td>\n",
       "    </tr>\n",
       "    <tr>\n",
       "      <th>3</th>\n",
       "      <td>2021-12-14</td>\n",
       "      <td>c281759f750aa8f477d025643494df52e531935a0bfbb1...</td>\n",
       "      <td>redhat.com</td>\n",
       "      <td>31 min</td>\n",
       "      <td>11:02 AM</td>\n",
       "      <td>11:33 AM</td>\n",
       "    </tr>\n",
       "    <tr>\n",
       "      <th>4</th>\n",
       "      <td>2021-12-14</td>\n",
       "      <td>76ecf41e4da0c8629abadab0ea6751c7a85f0fe632a96d...</td>\n",
       "      <td>redhat.com</td>\n",
       "      <td>30 min</td>\n",
       "      <td>11:02 AM</td>\n",
       "      <td>11:32 AM</td>\n",
       "    </tr>\n",
       "  </tbody>\n",
       "</table>\n",
       "</div>"
      ],
      "text/plain": [
       "         Date                                              Name#       Email  \\\n",
       "0  2021-12-14  513fa0b6615335d0bed0a1dcdb40e1e515c07619608650...  redhat.com   \n",
       "1  2021-12-14  c0600eaa67ce4b171cb130cfa4914cc54d163384012e93...  redhat.com   \n",
       "2  2021-12-14  864042274f41a29a5b7fb860c7ec9fb3c1e6ec0e994731...  redhat.com   \n",
       "3  2021-12-14  c281759f750aa8f477d025643494df52e531935a0bfbb1...  redhat.com   \n",
       "4  2021-12-14  76ecf41e4da0c8629abadab0ea6751c7a85f0fe632a96d...  redhat.com   \n",
       "\n",
       "  Duration Time_joined Time_exited  \n",
       "0   30 min    11:02 AM    11:32 AM  \n",
       "1   30 min    11:02 AM    11:32 AM  \n",
       "2   30 min    11:02 AM    11:32 AM  \n",
       "3   31 min    11:02 AM    11:33 AM  \n",
       "4   30 min    11:02 AM    11:32 AM  "
      ]
     },
     "execution_count": 8,
     "metadata": {},
     "output_type": "execute_result"
    }
   ],
   "source": [
    "merged_df.head()"
   ]
  },
  {
   "cell_type": "markdown",
   "id": "ca6c3be2-3484-4ca5-81d0-545af3381d3f",
   "metadata": {},
   "source": [
    "So in our data we have Date of meetup, hashed name of attendees, respective domain name of emails, and information about the duration, joined time and exit time from the meetup. "
   ]
  },
  {
   "cell_type": "code",
   "execution_count": 9,
   "id": "0c4a4fad-15ba-40b3-9f0d-197e37cd1ccf",
   "metadata": {},
   "outputs": [
    {
     "name": "stdout",
     "output_type": "stream",
     "text": [
      "The different meetup dates are ['2021-12-14' '2022-01-25' '2022-02-08' '2022-02-22' '2022-03-08'\n",
      " '2022-03-22' '2022-04-05']\n"
     ]
    }
   ],
   "source": [
    "print(f'The different meetup dates are {merged_df.Date.unique()}')"
   ]
  },
  {
   "cell_type": "markdown",
   "id": "20912182-0032-46ee-87ce-ec82a3d8a3cd",
   "metadata": {},
   "source": [
    "In order to check what types of variables are in the date, we do,"
   ]
  },
  {
   "cell_type": "code",
   "execution_count": 10,
   "id": "350c550d-d8ff-44bf-9e2a-2c7a856df14d",
   "metadata": {},
   "outputs": [
    {
     "name": "stdout",
     "output_type": "stream",
     "text": [
      "<class 'pandas.core.frame.DataFrame'>\n",
      "RangeIndex: 180 entries, 0 to 179\n",
      "Data columns (total 6 columns):\n",
      " #   Column       Non-Null Count  Dtype \n",
      "---  ------       --------------  ----- \n",
      " 0   Date         180 non-null    object\n",
      " 1   Name#        180 non-null    object\n",
      " 2   Email        179 non-null    object\n",
      " 3   Duration     180 non-null    object\n",
      " 4   Time_joined  180 non-null    object\n",
      " 5   Time_exited  180 non-null    object\n",
      "dtypes: object(6)\n",
      "memory usage: 8.6+ KB\n"
     ]
    }
   ],
   "source": [
    "merged_df.info()"
   ]
  },
  {
   "cell_type": "markdown",
   "id": "d8dbd385-c69d-4b9d-9603-fd92720900ac",
   "metadata": {},
   "source": [
    "We see that all the columns are type object. In the next step, we will change the type of respective variables, so that it is easier for later analysis. "
   ]
  },
  {
   "cell_type": "code",
   "execution_count": 11,
   "id": "855311b3-e945-4eb0-94f4-6afa81ccb71e",
   "metadata": {},
   "outputs": [],
   "source": [
    "merged_df['Time_joined'] = pd.to_datetime(merged_df['Date'] + \" \" + merged_df['Time_joined'])\n",
    "merged_df['Time_exited'] = pd.to_datetime(merged_df['Date'] + \" \" + merged_df['Time_exited'])\n",
    "merged_df['Duration'] = merged_df['Duration'].map(lambda x : x.rstrip('minsec'))\n",
    "merged_df['Duration'] = merged_df['Duration'].astype(float)\n",
    "merged_df['Date'] = pd.to_datetime(merged_df['Date'])"
   ]
  },
  {
   "cell_type": "code",
   "execution_count": 12,
   "id": "f79ebb1b-7f07-4c6e-8034-79004fc36751",
   "metadata": {},
   "outputs": [
    {
     "name": "stdout",
     "output_type": "stream",
     "text": [
      "<class 'pandas.core.frame.DataFrame'>\n",
      "RangeIndex: 180 entries, 0 to 179\n",
      "Data columns (total 6 columns):\n",
      " #   Column       Non-Null Count  Dtype         \n",
      "---  ------       --------------  -----         \n",
      " 0   Date         180 non-null    datetime64[ns]\n",
      " 1   Name#        180 non-null    object        \n",
      " 2   Email        179 non-null    object        \n",
      " 3   Duration     180 non-null    float64       \n",
      " 4   Time_joined  180 non-null    datetime64[ns]\n",
      " 5   Time_exited  180 non-null    datetime64[ns]\n",
      "dtypes: datetime64[ns](3), float64(1), object(2)\n",
      "memory usage: 8.6+ KB\n"
     ]
    }
   ],
   "source": [
    "merged_df.info()"
   ]
  },
  {
   "cell_type": "code",
   "execution_count": 13,
   "id": "d6048855-5ebd-40d1-8920-0dc413356bfe",
   "metadata": {},
   "outputs": [
    {
     "data": {
      "text/html": [
       "<div>\n",
       "<style scoped>\n",
       "    .dataframe tbody tr th:only-of-type {\n",
       "        vertical-align: middle;\n",
       "    }\n",
       "\n",
       "    .dataframe tbody tr th {\n",
       "        vertical-align: top;\n",
       "    }\n",
       "\n",
       "    .dataframe thead th {\n",
       "        text-align: right;\n",
       "    }\n",
       "</style>\n",
       "<table border=\"1\" class=\"dataframe\">\n",
       "  <thead>\n",
       "    <tr style=\"text-align: right;\">\n",
       "      <th></th>\n",
       "      <th>Date</th>\n",
       "      <th>Name#</th>\n",
       "      <th>Email</th>\n",
       "      <th>Duration</th>\n",
       "      <th>Time_joined</th>\n",
       "      <th>Time_exited</th>\n",
       "    </tr>\n",
       "  </thead>\n",
       "  <tbody>\n",
       "    <tr>\n",
       "      <th>0</th>\n",
       "      <td>2021-12-14</td>\n",
       "      <td>513fa0b6615335d0bed0a1dcdb40e1e515c07619608650...</td>\n",
       "      <td>redhat.com</td>\n",
       "      <td>30.0</td>\n",
       "      <td>2021-12-14 11:02:00</td>\n",
       "      <td>2021-12-14 11:32:00</td>\n",
       "    </tr>\n",
       "    <tr>\n",
       "      <th>1</th>\n",
       "      <td>2021-12-14</td>\n",
       "      <td>c0600eaa67ce4b171cb130cfa4914cc54d163384012e93...</td>\n",
       "      <td>redhat.com</td>\n",
       "      <td>30.0</td>\n",
       "      <td>2021-12-14 11:02:00</td>\n",
       "      <td>2021-12-14 11:32:00</td>\n",
       "    </tr>\n",
       "    <tr>\n",
       "      <th>2</th>\n",
       "      <td>2021-12-14</td>\n",
       "      <td>864042274f41a29a5b7fb860c7ec9fb3c1e6ec0e994731...</td>\n",
       "      <td>redhat.com</td>\n",
       "      <td>30.0</td>\n",
       "      <td>2021-12-14 11:02:00</td>\n",
       "      <td>2021-12-14 11:32:00</td>\n",
       "    </tr>\n",
       "    <tr>\n",
       "      <th>3</th>\n",
       "      <td>2021-12-14</td>\n",
       "      <td>c281759f750aa8f477d025643494df52e531935a0bfbb1...</td>\n",
       "      <td>redhat.com</td>\n",
       "      <td>31.0</td>\n",
       "      <td>2021-12-14 11:02:00</td>\n",
       "      <td>2021-12-14 11:33:00</td>\n",
       "    </tr>\n",
       "    <tr>\n",
       "      <th>4</th>\n",
       "      <td>2021-12-14</td>\n",
       "      <td>76ecf41e4da0c8629abadab0ea6751c7a85f0fe632a96d...</td>\n",
       "      <td>redhat.com</td>\n",
       "      <td>30.0</td>\n",
       "      <td>2021-12-14 11:02:00</td>\n",
       "      <td>2021-12-14 11:32:00</td>\n",
       "    </tr>\n",
       "  </tbody>\n",
       "</table>\n",
       "</div>"
      ],
      "text/plain": [
       "        Date                                              Name#       Email  \\\n",
       "0 2021-12-14  513fa0b6615335d0bed0a1dcdb40e1e515c07619608650...  redhat.com   \n",
       "1 2021-12-14  c0600eaa67ce4b171cb130cfa4914cc54d163384012e93...  redhat.com   \n",
       "2 2021-12-14  864042274f41a29a5b7fb860c7ec9fb3c1e6ec0e994731...  redhat.com   \n",
       "3 2021-12-14  c281759f750aa8f477d025643494df52e531935a0bfbb1...  redhat.com   \n",
       "4 2021-12-14  76ecf41e4da0c8629abadab0ea6751c7a85f0fe632a96d...  redhat.com   \n",
       "\n",
       "   Duration         Time_joined         Time_exited  \n",
       "0      30.0 2021-12-14 11:02:00 2021-12-14 11:32:00  \n",
       "1      30.0 2021-12-14 11:02:00 2021-12-14 11:32:00  \n",
       "2      30.0 2021-12-14 11:02:00 2021-12-14 11:32:00  \n",
       "3      31.0 2021-12-14 11:02:00 2021-12-14 11:33:00  \n",
       "4      30.0 2021-12-14 11:02:00 2021-12-14 11:32:00  "
      ]
     },
     "execution_count": 13,
     "metadata": {},
     "output_type": "execute_result"
    }
   ],
   "source": [
    "merged_df.head()"
   ]
  },
  {
   "cell_type": "markdown",
   "id": "d67fd053-f9aa-4e2b-8fd4-0969e6e2ab1f",
   "metadata": {},
   "source": [
    "We converted the date and time objects into respective datetime variables. "
   ]
  },
  {
   "cell_type": "code",
   "execution_count": 14,
   "id": "9db5ae08-cc9e-4b6f-9c68-741fd84c7de9",
   "metadata": {},
   "outputs": [
    {
     "data": {
      "text/plain": [
       "count    180.000000\n",
       "mean      29.427778\n",
       "std       12.311611\n",
       "min        0.000000\n",
       "25%       21.000000\n",
       "50%       30.000000\n",
       "75%       38.250000\n",
       "max       52.000000\n",
       "Name: Duration, dtype: float64"
      ]
     },
     "execution_count": 14,
     "metadata": {},
     "output_type": "execute_result"
    }
   ],
   "source": [
    "merged_df.Duration.describe()"
   ]
  },
  {
   "cell_type": "markdown",
   "id": "f0f74eb4-6193-43d9-8391-96167574efc6",
   "metadata": {},
   "source": [
    "### Number of attendees by dates:"
   ]
  },
  {
   "cell_type": "code",
   "execution_count": 15,
   "id": "2e9d10f2-a78d-4d6f-b77f-907a992e963f",
   "metadata": {},
   "outputs": [
    {
     "name": "stdout",
     "output_type": "stream",
     "text": [
      "Total number of unique attendees is 81. Out of those, lets see how many attendees have attended each meetup.\n"
     ]
    }
   ],
   "source": [
    "print(f'Total number of unique attendees is {merged_df[\"Name#\"].nunique()}. '\n",
    "       'Out of those, lets see how many attendees have attended each meetup.')"
   ]
  },
  {
   "cell_type": "code",
   "execution_count": 16,
   "id": "d3a380b0-d25f-4cea-b882-4d415c1ae48d",
   "metadata": {},
   "outputs": [
    {
     "data": {
      "text/plain": [
       "Date\n",
       "2021-12-14    23\n",
       "2022-01-25    30\n",
       "2022-02-08    32\n",
       "2022-02-22    27\n",
       "2022-03-08    23\n",
       "2022-03-22    20\n",
       "2022-04-05    25\n",
       "Name: Name#, dtype: int64"
      ]
     },
     "execution_count": 16,
     "metadata": {},
     "output_type": "execute_result"
    }
   ],
   "source": [
    "merged_df.groupby(merged_df['Date'].dt.date)['Name#'].count()"
   ]
  },
  {
   "cell_type": "code",
   "execution_count": 17,
   "id": "fb44f5fe-0000-49c9-8292-6c43e2d9b10f",
   "metadata": {},
   "outputs": [
    {
     "data": {
      "text/plain": [
       "<AxesSubplot:xlabel='Date'>"
      ]
     },
     "execution_count": 17,
     "metadata": {},
     "output_type": "execute_result"
    },
    {
     "data": {
      "image/png": "[encoded data removed]",
      "text/plain": [
       "<Figure size 720x360 with 1 Axes>"
      ]
     },
     "metadata": {
      "needs_background": "light"
     },
     "output_type": "display_data"
    }
   ],
   "source": [
    "plt.figure(figsize=(10,5))\n",
    "merged_df.groupby(merged_df['Date'].dt.date)['Name#'].count().plot()"
   ]
  },
  {
   "cell_type": "markdown",
   "id": "c7a18e43-353b-466f-bfde-9ae3e7fdc55e",
   "metadata": {},
   "source": [
    "### Average duration by dates:"
   ]
  },
  {
   "cell_type": "code",
   "execution_count": 18,
   "id": "5b94a02d-4193-4898-ad54-fe0fb26c9312",
   "metadata": {},
   "outputs": [
    {
     "data": {
      "text/plain": [
       "Date\n",
       "2021-12-14    28.608696\n",
       "2022-01-25    21.066667\n",
       "2022-02-08    32.531250\n",
       "2022-02-22    37.777778\n",
       "2022-03-08    32.782609\n",
       "2022-03-22    18.550000\n",
       "2022-04-05    32.840000\n",
       "Name: Duration, dtype: float64"
      ]
     },
     "execution_count": 18,
     "metadata": {},
     "output_type": "execute_result"
    }
   ],
   "source": [
    "merged_df.groupby(merged_df['Date'].dt.date)['Duration'].mean()"
   ]
  },
  {
   "cell_type": "code",
   "execution_count": 19,
   "id": "9407edb0-87c2-435e-ae2d-021a1ba29467",
   "metadata": {},
   "outputs": [
    {
     "data": {
      "text/plain": [
       "<AxesSubplot:xlabel='Date'>"
      ]
     },
     "execution_count": 19,
     "metadata": {},
     "output_type": "execute_result"
    },
    {
     "data": {
      "image/png": "[encoded data removed]",
      "text/plain": [
       "<Figure size 720x360 with 1 Axes>"
      ]
     },
     "metadata": {
      "needs_background": "light"
     },
     "output_type": "display_data"
    }
   ],
   "source": [
    "plt.figure(figsize=(10,5))\n",
    "merged_df.groupby(merged_df['Date'].dt.date)['Duration'].mean().plot()"
   ]
  },
  {
   "cell_type": "markdown",
   "id": "2f5c8ab2-438f-4061-bdf7-a08d5bc35672",
   "metadata": {},
   "source": [
    "### Attendees for different dates"
   ]
  },
  {
   "cell_type": "markdown",
   "id": "c0836771-f57a-4a8d-ab5b-4a414a46c5e9",
   "metadata": {},
   "source": [
    "We apply groupby method in order to segregate the number of attendees based on different dates."
   ]
  },
  {
   "cell_type": "code",
   "execution_count": 20,
   "id": "bb20468c-7287-4694-9fc3-923daa4f9cb5",
   "metadata": {},
   "outputs": [],
   "source": [
    "df = merged_df.groupby('Name#')['Date'].nunique().to_frame().sort_values('Date', ascending=False)\n",
    "df.rename(columns={'Date':\"Frequency\"}, inplace=True)"
   ]
  },
  {
   "cell_type": "markdown",
   "id": "b115ee3a-cc72-482b-b48a-380bf12b604e",
   "metadata": {},
   "source": [
    "The given dataframe gives us the sorted list of attendees attending the meetup. "
   ]
  },
  {
   "cell_type": "code",
   "execution_count": 21,
   "id": "aff51e89-7ca5-46e4-b4c2-1d53f70a0e39",
   "metadata": {},
   "outputs": [
    {
     "data": {
      "text/html": [
       "<div>\n",
       "<style scoped>\n",
       "    .dataframe tbody tr th:only-of-type {\n",
       "        vertical-align: middle;\n",
       "    }\n",
       "\n",
       "    .dataframe tbody tr th {\n",
       "        vertical-align: top;\n",
       "    }\n",
       "\n",
       "    .dataframe thead th {\n",
       "        text-align: right;\n",
       "    }\n",
       "</style>\n",
       "<table border=\"1\" class=\"dataframe\">\n",
       "  <thead>\n",
       "    <tr style=\"text-align: right;\">\n",
       "      <th></th>\n",
       "      <th>Frequency</th>\n",
       "    </tr>\n",
       "    <tr>\n",
       "      <th>Name#</th>\n",
       "      <th></th>\n",
       "    </tr>\n",
       "  </thead>\n",
       "  <tbody>\n",
       "    <tr>\n",
       "      <th>c0600eaa67ce4b171cb130cfa4914cc54d163384012e93ee843f48e4482c523b8500ed338f5bdbb74659ed8567de6c35a231f02e3d5e16b9db99bf64cc9fe894</th>\n",
       "      <td>7</td>\n",
       "    </tr>\n",
       "    <tr>\n",
       "      <th>0e3a7339abb84525e1a770694b91cb1a4fe904359aef4d9832002577b11e3697b22bb7071479d2c7a33ea2cb842476b8c071fa7c1da70456789a836b9219d15f</th>\n",
       "      <td>7</td>\n",
       "    </tr>\n",
       "    <tr>\n",
       "      <th>c281759f750aa8f477d025643494df52e531935a0bfbb18b07fae49684bdddeaad589896618adc9df6c52906097f142451c752f71728d22faf58985b82f6df1b</th>\n",
       "      <td>6</td>\n",
       "    </tr>\n",
       "    <tr>\n",
       "      <th>b4ce2f8e9d439cc2878d757320a7daf475632b88c5a665b6655db13809017c8f05801473ab35d4aab4ee16f3a0bcc6c1ccfa69241d046ed555afd22b7f007dea</th>\n",
       "      <td>6</td>\n",
       "    </tr>\n",
       "    <tr>\n",
       "      <th>c3f58c6e9bb7bd16672310707d5dc4c803572f7232639070096a04962b4af547b2b7c40b896a76f62fab8880252bf886eb340ab924e01f3c89c6337079384d16</th>\n",
       "      <td>6</td>\n",
       "    </tr>\n",
       "    <tr>\n",
       "      <th>cab3ba0fb82d66051a855f635407457757d281d4693e2089246ee45a3b43d819d8ee1f9b4caf65e0ba8443b018bc961630816a514e7bdbf987d0d6ab169a71f4</th>\n",
       "      <td>6</td>\n",
       "    </tr>\n",
       "    <tr>\n",
       "      <th>76ecf41e4da0c8629abadab0ea6751c7a85f0fe632a96ddd7918788029129bc5032aa7e56901cf2c33d05d954d74853ad1f72161c402f39fdf84db5092e692f8</th>\n",
       "      <td>6</td>\n",
       "    </tr>\n",
       "    <tr>\n",
       "      <th>864042274f41a29a5b7fb860c7ec9fb3c1e6ec0e99473144b57e09d49ce8375bcc5b4fff1ed315704fb51128ca962a122c2d7a4e8b537b3f27fb56a0b31796cc</th>\n",
       "      <td>6</td>\n",
       "    </tr>\n",
       "    <tr>\n",
       "      <th>513fa0b6615335d0bed0a1dcdb40e1e515c0761960865011ce19d4fa99285da1a5a3491fd3f8c09a82beaa858cb5aa5ddec74411cecd0e0d780c65bb07266484</th>\n",
       "      <td>6</td>\n",
       "    </tr>\n",
       "    <tr>\n",
       "      <th>f2397d17d10bd1d48ecb755c3628b75de70f5f752c757bbed071d2f5a71003990e74402d43770af856cd8b86cf27c6599f1c3e8218be2be594449e180509e6eb</th>\n",
       "      <td>5</td>\n",
       "    </tr>\n",
       "  </tbody>\n",
       "</table>\n",
       "</div>"
      ],
      "text/plain": [
       "                                                    Frequency\n",
       "Name#                                                        \n",
       "c0600eaa67ce4b171cb130cfa4914cc54d163384012e93e...          7\n",
       "0e3a7339abb84525e1a770694b91cb1a4fe904359aef4d9...          7\n",
       "c281759f750aa8f477d025643494df52e531935a0bfbb18...          6\n",
       "b4ce2f8e9d439cc2878d757320a7daf475632b88c5a665b...          6\n",
       "c3f58c6e9bb7bd16672310707d5dc4c803572f723263907...          6\n",
       "cab3ba0fb82d66051a855f635407457757d281d4693e208...          6\n",
       "76ecf41e4da0c8629abadab0ea6751c7a85f0fe632a96dd...          6\n",
       "864042274f41a29a5b7fb860c7ec9fb3c1e6ec0e9947314...          6\n",
       "513fa0b6615335d0bed0a1dcdb40e1e515c076196086501...          6\n",
       "f2397d17d10bd1d48ecb755c3628b75de70f5f752c757bb...          5"
      ]
     },
     "execution_count": 21,
     "metadata": {},
     "output_type": "execute_result"
    }
   ],
   "source": [
    "df.head(10)"
   ]
  },
  {
   "cell_type": "markdown",
   "id": "b879453d-04c3-4de8-b867-503f5d462048",
   "metadata": {},
   "source": [
    "Now, lets apply the groupby method again in order to get the number of attendees attending meetup sessions."
   ]
  },
  {
   "cell_type": "code",
   "execution_count": 22,
   "id": "42fcc617-80ff-4e91-bfd0-8c5dfecd6259",
   "metadata": {},
   "outputs": [],
   "source": [
    "df = df.reset_index()\n",
    "df1 = df.groupby('Frequency')['Name#'].nunique().to_frame().sort_values('Name#', ascending=False).reset_index()\n",
    "df1.rename(columns={'Name#':'Number_of_attendees'}, inplace=True)"
   ]
  },
  {
   "cell_type": "code",
   "execution_count": 23,
   "id": "9bb9fd18-a8b4-4d0b-b561-1d12e6b9434f",
   "metadata": {},
   "outputs": [
    {
     "data": {
      "text/html": [
       "<div>\n",
       "<style scoped>\n",
       "    .dataframe tbody tr th:only-of-type {\n",
       "        vertical-align: middle;\n",
       "    }\n",
       "\n",
       "    .dataframe tbody tr th {\n",
       "        vertical-align: top;\n",
       "    }\n",
       "\n",
       "    .dataframe thead th {\n",
       "        text-align: right;\n",
       "    }\n",
       "</style>\n",
       "<table border=\"1\" class=\"dataframe\">\n",
       "  <thead>\n",
       "    <tr style=\"text-align: right;\">\n",
       "      <th></th>\n",
       "      <th>Frequency</th>\n",
       "      <th>Number_of_attendees</th>\n",
       "    </tr>\n",
       "  </thead>\n",
       "  <tbody>\n",
       "    <tr>\n",
       "      <th>0</th>\n",
       "      <td>1</td>\n",
       "      <td>48</td>\n",
       "    </tr>\n",
       "    <tr>\n",
       "      <th>1</th>\n",
       "      <td>2</td>\n",
       "      <td>11</td>\n",
       "    </tr>\n",
       "    <tr>\n",
       "      <th>2</th>\n",
       "      <td>6</td>\n",
       "      <td>7</td>\n",
       "    </tr>\n",
       "    <tr>\n",
       "      <th>3</th>\n",
       "      <td>4</td>\n",
       "      <td>6</td>\n",
       "    </tr>\n",
       "    <tr>\n",
       "      <th>4</th>\n",
       "      <td>5</td>\n",
       "      <td>4</td>\n",
       "    </tr>\n",
       "    <tr>\n",
       "      <th>5</th>\n",
       "      <td>3</td>\n",
       "      <td>3</td>\n",
       "    </tr>\n",
       "    <tr>\n",
       "      <th>6</th>\n",
       "      <td>7</td>\n",
       "      <td>2</td>\n",
       "    </tr>\n",
       "  </tbody>\n",
       "</table>\n",
       "</div>"
      ],
      "text/plain": [
       "   Frequency  Number_of_attendees\n",
       "0          1                   48\n",
       "1          2                   11\n",
       "2          6                    7\n",
       "3          4                    6\n",
       "4          5                    4\n",
       "5          3                    3\n",
       "6          7                    2"
      ]
     },
     "execution_count": 23,
     "metadata": {},
     "output_type": "execute_result"
    }
   ],
   "source": [
    "df1"
   ]
  },
  {
   "cell_type": "code",
   "execution_count": 24,
   "id": "eadf46b9-89a2-4fb6-baea-f3dfaa6d3a14",
   "metadata": {},
   "outputs": [
    {
     "data": {
      "image/png": "[encoded data removed]",
      "text/plain": [
       "<Figure size 720x360 with 1 Axes>"
      ]
     },
     "metadata": {
      "needs_background": "light"
     },
     "output_type": "display_data"
    }
   ],
   "source": [
    "plt.figure(figsize=(10,5))\n",
    "plt.scatter(df1.Frequency, df1.Number_of_attendees)\n",
    "plt.ylabel('Number_of attendees')\n",
    "plt.xlabel(\"Frequency of attending meetup\")\n",
    "plt.show()"
   ]
  },
  {
   "cell_type": "markdown",
   "id": "b09d37d5-21d0-44e6-b678-0851602babef",
   "metadata": {},
   "source": [
    "# Conclusion "
   ]
  },
  {
   "cell_type": "markdown",
   "id": "acf3755e-45ce-4bf5-ac60-33ae30e14a57",
   "metadata": {},
   "source": [
    "In this notebook, we did the EDA for meetup attendees data and gather some insights such as number of unique attendees, repetative attendees, duration of meetup, etc. We hope this be helpful in order to build participation in community building. "
   ]
  }
 ],
 "metadata": {
  "kernelspec": {
   "display_name": "Python 3",
   "language": "python",
   "name": "python3"
  },
  "language_info": {
   "codemirror_mode": {
    "name": "ipython",
    "version": 3
   },
   "file_extension": ".py",
   "mimetype": "text/x-python",
   "name": "python",
   "nbconvert_exporter": "python",
   "pygments_lexer": "ipython3",
   "version": "3.8.6"
  },
  "toc": {
   "base_numbering": 1,
   "nav_menu": {},
   "number_sections": true,
   "sideBar": true,
   "skip_h1_title": false,
   "title_cell": "Table of Contents",
   "title_sidebar": "Contents",
   "toc_cell": false,
   "toc_position": {},
   "toc_section_display": true,
   "toc_window_display": false
  }
 },
 "nbformat": 4,
 "nbformat_minor": 5
}
